{
  "nbformat": 4,
  "nbformat_minor": 0,
  "metadata": {
    "colab": {
      "provenance": []
    },
    "kernelspec": {
      "name": "python3",
      "display_name": "Python 3"
    },
    "language_info": {
      "name": "python"
    }
  },
  "cells": [
    {
      "cell_type": "code",
      "execution_count": null,
      "metadata": {
        "id": "hL7qcf0gHsQG"
      },
      "outputs": [],
      "source": [
        "#Creating series from array\n",
        "import pandas as pd\n",
        "import numpy as np\n",
        "info = np.array(['P','a','n','d','a','s'])\n",
        "a = pd.Series(info)\n",
        "print(a)"
      ]
    },
    {
      "cell_type": "code",
      "source": [
        "# a list of strings\n",
        "x =['Python','Pandas']\n",
        "#Calling DataFrame constructor on list\n",
        "df = pd.DataFrame(x)\n",
        "print(df)"
      ],
      "metadata": {
        "id": "wmf5bM1ROfT0"
      },
      "execution_count": null,
      "outputs": []
    },
    {
      "cell_type": "code",
      "source": [
        "a= pd.Series(['Java','c','c++',np.nan])\n",
        "a.map({'Java':'Core'})"
      ],
      "metadata": {
        "id": "w_6EExEdQLPJ"
      },
      "execution_count": null,
      "outputs": []
    },
    {
      "cell_type": "code",
      "source": [
        "a= pd.Series(['Java','c','c++',np.nan])\n",
        "a.map({'Java':'Core'})\n",
        "a.map('I like{}'.format, na_action='ignore')"
      ],
      "metadata": {
        "id": "DoMWDEMvOybz"
      },
      "execution_count": null,
      "outputs": []
    },
    {
      "cell_type": "code",
      "source": [
        "s = pd.Series([\"a\",\"b\",\"c\"],\n",
        "name=\"vals\")\n",
        "s.to_frame()"
      ],
      "metadata": {
        "id": "3s4PzaJcPXrD"
      },
      "execution_count": null,
      "outputs": []
    },
    {
      "cell_type": "code",
      "source": [
        "import matplotlib.pyplot as plt\n",
        "emp = ['Parker','John','Smith','William']\n",
        "id = [102,107,109,114]\n",
        "emp_series = pd.Series(emp)\n",
        "id_series = pd.Series(id)\n",
        "frame = {'Emp':emp_series,'ID':id_series}\n",
        "result = pd.DataFrame(frame)\n",
        "print(result)"
      ],
      "metadata": {
        "id": "CM7NqHfRQ2hQ"
      },
      "execution_count": null,
      "outputs": []
    }
  ]
}