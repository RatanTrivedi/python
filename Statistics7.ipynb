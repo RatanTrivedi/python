{
  "nbformat": 4,
  "nbformat_minor": 0,
  "metadata": {
    "colab": {
      "provenance": []
    },
    "kernelspec": {
      "name": "python3",
      "display_name": "Python 3"
    },
    "language_info": {
      "name": "python"
    }
  },
  "cells": [
    {
      "cell_type": "code",
      "execution_count": 18,
      "metadata": {
        "id": "_bwQu-epyKOj",
        "colab": {
          "base_uri": "https://localhost:8080/"
        },
        "outputId": "45980b92-c8ba-46ed-dbb3-381931594681"
      },
      "outputs": [
        {
          "output_type": "stream",
          "name": "stdout",
          "text": [
            "Mee created array:2 \r\n",
            "4 \r\n",
            "6 \r\n",
            "8 \r\n",
            "10 \r\n"
          ]
        }
      ],
      "source": [
        "\n",
        "# import \"array\" for demonstrating array operation\n",
        "import array\n",
        "arr = array.array('I',[2,4,6,8,10,12])\n",
        "print(\"Mee created array:\",end=\"\")\n",
        "for I in range(0,5):\n",
        " print(arr[I],end=\" \")\n",
        " print(\"\\r\")"
      ]
    },
    {
      "cell_type": "code",
      "source": [
        "import pandas as pd\n",
        "dict = {'name':[\"Smith\",\"Williom\",\"Phill\",\"Parker\"],\n",
        "'age':[\"28\",\"39\",\"34\",\"36\"]}\n",
        "info = pd.DataFrame(dict,index=[True,True,False,True])\n",
        "print(info)"
      ],
      "metadata": {
        "id": "oWJd3uPO0DeX"
      },
      "execution_count": null,
      "outputs": []
    },
    {
      "cell_type": "code",
      "source": [
        "dict = {'name':[\"Smith\",\"Williom\",\"Phill\",\"Parker\"],\n",
        "'age':[\"28\",\"39\",\"34\",\"36\"]}\n",
        "info = pd.DataFrame(dict,index=[True,True,False,True])\n",
        "print(info.loc[True])"
      ],
      "metadata": {
        "id": "fLATYfWg6DsD"
      },
      "execution_count": null,
      "outputs": []
    },
    {
      "cell_type": "code",
      "source": [
        "import numpy as np\n",
        "arr=np.arange(16)\n",
        "print(\"The Original array is: \\n\",arr)\n",
        "arr = np.arange(16).reshape(2,8)\n",
        "print(\"\\nreshapedarray.:\\n\",arr)\n",
        "arr=np.arange(16).reshape(8,2)\n",
        "print(\"\\nreshaped array:\\n\",arr)"
      ],
      "metadata": {
        "colab": {
          "base_uri": "https://localhost:8080/"
        },
        "id": "7iQc0g746PX9",
        "outputId": "d1c7ae8a-115e-440d-840a-c188266fb99f"
      },
      "execution_count": 17,
      "outputs": [
        {
          "output_type": "stream",
          "name": "stdout",
          "text": [
            "The Original array is: \n",
            " [ 0  1  2  3  4  5  6  7  8  9 10 11 12 13 14 15]\n",
            "\n",
            "reshapedarray.:\n",
            " [[ 0  1  2  3  4  5  6  7]\n",
            " [ 8  9 10 11 12 13 14 15]]\n",
            "\n",
            "reshaped array:\n",
            " [[ 0  1]\n",
            " [ 2  3]\n",
            " [ 4  5]\n",
            " [ 6  7]\n",
            " [ 8  9]\n",
            " [10 11]\n",
            " [12 13]\n",
            " [14 15]]\n"
          ]
        }
      ]
    }
  ]
}